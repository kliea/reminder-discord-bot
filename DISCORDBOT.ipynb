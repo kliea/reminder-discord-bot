{
  "nbformat": 4,
  "nbformat_minor": 0,
  "metadata": {
    "colab": {
      "provenance": [],
      "authorship_tag": "ABX9TyMahYltGWeDjRbqJXzKVye9",
      "include_colab_link": true
    },
    "kernelspec": {
      "name": "python3",
      "display_name": "Python 3"
    },
    "language_info": {
      "name": "python"
    }
  },
  "cells": [
    {
      "cell_type": "markdown",
      "metadata": {
        "id": "view-in-github",
        "colab_type": "text"
      },
      "source": [
        "<a href=\"https://colab.research.google.com/github/kliea/reminder-discord-bot/blob/main/DISCORDBOT.ipynb\" target=\"_parent\"><img src=\"https://colab.research.google.com/assets/colab-badge.svg\" alt=\"Open In Colab\"/></a>"
      ]
    },
    {
      "cell_type": "code",
      "source": [
        "!pip install discord.py\n",
        "!pip install pynacl"
      ],
      "metadata": {
        "colab": {
          "base_uri": "https://localhost:8080/"
        },
        "id": "IVScHuS0HTxd",
        "outputId": "cb20e1e9-77c6-44b2-b756-f5ce2e0f590f"
      },
      "execution_count": null,
      "outputs": [
        {
          "output_type": "stream",
          "name": "stdout",
          "text": [
            "Requirement already satisfied: discord.py in /usr/local/lib/python3.11/dist-packages (2.5.2)\n",
            "Requirement already satisfied: aiohttp<4,>=3.7.4 in /usr/local/lib/python3.11/dist-packages (from discord.py) (3.11.13)\n",
            "Requirement already satisfied: aiohappyeyeballs>=2.3.0 in /usr/local/lib/python3.11/dist-packages (from aiohttp<4,>=3.7.4->discord.py) (2.4.6)\n",
            "Requirement already satisfied: aiosignal>=1.1.2 in /usr/local/lib/python3.11/dist-packages (from aiohttp<4,>=3.7.4->discord.py) (1.3.2)\n",
            "Requirement already satisfied: attrs>=17.3.0 in /usr/local/lib/python3.11/dist-packages (from aiohttp<4,>=3.7.4->discord.py) (25.1.0)\n",
            "Requirement already satisfied: frozenlist>=1.1.1 in /usr/local/lib/python3.11/dist-packages (from aiohttp<4,>=3.7.4->discord.py) (1.5.0)\n",
            "Requirement already satisfied: multidict<7.0,>=4.5 in /usr/local/lib/python3.11/dist-packages (from aiohttp<4,>=3.7.4->discord.py) (6.1.0)\n",
            "Requirement already satisfied: propcache>=0.2.0 in /usr/local/lib/python3.11/dist-packages (from aiohttp<4,>=3.7.4->discord.py) (0.3.0)\n",
            "Requirement already satisfied: yarl<2.0,>=1.17.0 in /usr/local/lib/python3.11/dist-packages (from aiohttp<4,>=3.7.4->discord.py) (1.18.3)\n",
            "Requirement already satisfied: idna>=2.0 in /usr/local/lib/python3.11/dist-packages (from yarl<2.0,>=1.17.0->aiohttp<4,>=3.7.4->discord.py) (3.10)\n",
            "Collecting pynacl\n",
            "  Downloading PyNaCl-1.5.0-cp36-abi3-manylinux_2_17_x86_64.manylinux2014_x86_64.manylinux_2_24_x86_64.whl.metadata (8.6 kB)\n",
            "Requirement already satisfied: cffi>=1.4.1 in /usr/local/lib/python3.11/dist-packages (from pynacl) (1.17.1)\n",
            "Requirement already satisfied: pycparser in /usr/local/lib/python3.11/dist-packages (from cffi>=1.4.1->pynacl) (2.22)\n",
            "Downloading PyNaCl-1.5.0-cp36-abi3-manylinux_2_17_x86_64.manylinux2014_x86_64.manylinux_2_24_x86_64.whl (856 kB)\n",
            "\u001b[2K   \u001b[90m━━━━━━━━━━━━━━━━━━━━━━━━━━━━━━━━━━━━━━━━\u001b[0m \u001b[32m856.7/856.7 kB\u001b[0m \u001b[31m22.5 MB/s\u001b[0m eta \u001b[36m0:00:00\u001b[0m\n",
            "\u001b[?25hInstalling collected packages: pynacl\n",
            "Successfully installed pynacl-1.5.0\n"
          ]
        }
      ]
    },
    {
      "cell_type": "code",
      "source": [
        "from google.colab import userdata\n",
        "import discord\n",
        "from discord.ext import tasks, commands\n",
        "from datetime import datetime, timezone, timedelta\n",
        "\n",
        "# Retrieve token and channel ID securely from Google Colab's userdata\n",
        "CHANNEL_ID = int(userdata.get('CHANNEL_ID'))\n",
        "BOT_TOKEN = userdata.get('BOT_TOKEN')\n",
        "\n",
        "# Set your event date and time (UTC)\n",
        "EVENT_DATE = datetime(2025, 4, 14, 0, 0, 0, tzinfo=timezone.utc)\n",
        "\n",
        "# Initialize bot with necessary intents\n",
        "intents = discord.Intents.default()\n",
        "intents.messages = True\n",
        "\n",
        "bot = commands.Bot(command_prefix='!', intents=intents)\n",
        "\n",
        "# Runs when the bot is ready\n",
        "@bot.event\n",
        "async def on_ready():\n",
        "    print(f'✅ Logged in as {bot.user.name}')\n",
        "\n",
        "    # Sync slash commands\n",
        "    try:\n",
        "        synced = await bot.tree.sync()\n",
        "        print(f\"✅ Synced {len(synced)} slash commands.\")\n",
        "    except Exception as e:\n",
        "        print(f\"❌ Failed to sync commands: {e}\")\n",
        "\n",
        "    daily_reminder.start()  # Start the scheduled reminder task\n",
        "\n",
        "# Task that runs every day at 8 PM UTC\n",
        "@tasks.loop(hours=24)\n",
        "async def daily_reminder():\n",
        "    now = datetime.now(timezone.utc)\n",
        "    reminder_time = now.replace(hour=20, minute=0, second=0, microsecond=0)\n",
        "\n",
        "    # If it's past 8 PM today, schedule for tomorrow\n",
        "    if now > reminder_time:\n",
        "        reminder_time += timedelta(days=1)\n",
        "\n",
        "    await discord.utils.sleep_until(reminder_time)  # Wait until the correct time\n",
        "\n",
        "    time_left = EVENT_DATE - datetime.now(timezone.utc)\n",
        "    if time_left > timedelta(0):\n",
        "        days = time_left.days\n",
        "        hours = (time_left.seconds // 3600) % 24\n",
        "        minutes = (time_left.seconds // 60) % 60\n",
        "        countdown_message = (f\"📢 Countdown Reminder: {days} days, {hours} hours, \"\n",
        "                             f\"and {minutes} minutes until the event!\")\n",
        "        channel = bot.get_channel(CHANNEL_ID)\n",
        "        if channel:\n",
        "            await channel.send(countdown_message)\n",
        "    else:\n",
        "        channel = bot.get_channel(CHANNEL_ID)\n",
        "        if channel:\n",
        "            await channel.send(\"🚀 The event has started!\")\n",
        "        daily_reminder.cancel()  # Stop the task after the event\n",
        "\n",
        "# Slash Command: Check the Countdown\n",
        "@bot.tree.command(name=\"countdown\", description=\"Check the countdown to the event.\")\n",
        "async def countdown(interaction: discord.Interaction):\n",
        "    time_left = EVENT_DATE - datetime.now(timezone.utc)\n",
        "\n",
        "    if time_left > timedelta(0):\n",
        "        days = time_left.days\n",
        "        hours = (time_left.seconds // 3600) % 24\n",
        "        minutes = (time_left.seconds // 60) % 60\n",
        "        await interaction.response.send_message(f\"🕒 Time left until the DAUG 2025: {days} days, {hours} hours, and {minutes} minutes.\")\n",
        "    else:\n",
        "        await interaction.response.send_message(\"🚀 The event has already started!\")\n",
        "\n",
        "# Run the bot\n",
        "import nest_asyncio\n",
        "import asyncio\n",
        "\n",
        "nest_asyncio.apply()\n",
        "\n",
        "async def main():\n",
        "    async with bot:\n",
        "        await bot.start(BOT_TOKEN)\n",
        "\n",
        "asyncio.get_event_loop().run_until_complete(main())"
      ],
      "metadata": {
        "colab": {
          "base_uri": "https://localhost:8080/"
        },
        "id": "rmdsJreMGIdm",
        "outputId": "14987558-7cf8-415d-94b0-8c9028e43378"
      },
      "execution_count": null,
      "outputs": [
        {
          "metadata": {
            "tags": null
          },
          "name": "stderr",
          "output_type": "stream",
          "text": [
            "\u001b[30;1m2025-03-05 16:25:11\u001b[0m \u001b[33;1mWARNING \u001b[0m \u001b[35mdiscord.ext.commands.bot\u001b[0m Privileged message content intent is missing, commands may not work as expected.\n",
            "\u001b[30;1m2025-03-05 16:25:11\u001b[0m \u001b[33;1mWARNING \u001b[0m \u001b[35mdiscord.ext.commands.bot\u001b[0m Privileged message content intent is missing, commands may not work as expected.\n",
            "WARNING:discord.ext.commands.bot:Privileged message content intent is missing, commands may not work as expected.\n",
            "\u001b[30;1m2025-03-05 16:25:11\u001b[0m \u001b[34;1mINFO    \u001b[0m \u001b[35mdiscord.client\u001b[0m logging in using static token\n",
            "\u001b[30;1m2025-03-05 16:25:11\u001b[0m \u001b[34;1mINFO    \u001b[0m \u001b[35mdiscord.client\u001b[0m logging in using static token\n",
            "INFO:discord.client:logging in using static token\n",
            "\u001b[30;1m2025-03-05 16:25:11\u001b[0m \u001b[34;1mINFO    \u001b[0m \u001b[35mdiscord.gateway\u001b[0m Shard ID None has connected to Gateway (Session ID: 7816cb8831d238015d436b64925ea3d0).\n",
            "\u001b[30;1m2025-03-05 16:25:11\u001b[0m \u001b[34;1mINFO    \u001b[0m \u001b[35mdiscord.gateway\u001b[0m Shard ID None has connected to Gateway (Session ID: 7816cb8831d238015d436b64925ea3d0).\n",
            "INFO:discord.gateway:Shard ID None has connected to Gateway (Session ID: 7816cb8831d238015d436b64925ea3d0).\n"
          ]
        },
        {
          "metadata": {
            "tags": null
          },
          "name": "stdout",
          "output_type": "stream",
          "text": [
            "✅ Logged in as reminder bot\n",
            "✅ Synced 1 slash commands.\n"
          ]
        }
      ]
    },
    {
      "cell_type": "code",
      "source": [
        "from flask import Flask\n",
        "from threading import Thread\n",
        "\n",
        "app = Flask('')\n",
        "\n",
        "@app.route('/')\n",
        "def home():\n",
        "    return \"I'm alive!\"\n",
        "\n",
        "def run():\n",
        "    app.run(host='0.0.0.0', port=8080)\n",
        "\n",
        "Thread(target=run).start()"
      ],
      "metadata": {
        "id": "yeYQ4dU0HK4m"
      },
      "execution_count": null,
      "outputs": []
    }
  ]
}